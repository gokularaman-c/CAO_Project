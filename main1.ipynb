{
 "cells": [
  {
   "cell_type": "code",
   "execution_count": 6,
   "metadata": {},
   "outputs": [],
   "source": [
    "# Import necessary libraries\n",
    "import os\n",
    "import cv2\n",
    "import numpy as np\n",
    "import ipywidgets as widgets\n",
    "from IPython.display import display\n",
    "import pymp  # For parallel processing\n",
    "import time  # For timing\n",
    "import math"
   ]
  },
  {
   "cell_type": "code",
   "execution_count": 7,
   "metadata": {},
   "outputs": [
    {
     "name": "stdout",
     "output_type": "stream",
     "text": [
      "True\n"
     ]
    }
   ],
   "source": [
    "print(hasattr(pymp, 'Parallel'))"
   ]
  },
  {
   "cell_type": "code",
   "execution_count": 3,
   "metadata": {},
   "outputs": [
    {
     "data": {
      "text/plain": [
       "['Parallel',\n",
       " '_IterableQueueIterator',\n",
       " '_LOGGER',\n",
       " '_Queue',\n",
       " '_QueueIterator',\n",
       " '__builtins__',\n",
       " '__cached__',\n",
       " '__doc__',\n",
       " '__file__',\n",
       " '__loader__',\n",
       " '__name__',\n",
       " '__package__',\n",
       " '__path__',\n",
       " '__spec__',\n",
       " '_config',\n",
       " '_functools',\n",
       " '_is_py2',\n",
       " '_logging',\n",
       " '_multiprocessing',\n",
       " '_os',\n",
       " '_platform',\n",
       " '_shared',\n",
       " '_sys',\n",
       " '_time',\n",
       " 'config',\n",
       " 'print_function',\n",
       " 'shared']"
      ]
     },
     "execution_count": 3,
     "metadata": {},
     "output_type": "execute_result"
    }
   ],
   "source": [
    "dir(pymp)"
   ]
  },
  {
   "cell_type": "code",
   "execution_count": 8,
   "metadata": {},
   "outputs": [
    {
     "name": "stdout",
     "output_type": "stream",
     "text": [
      "Enabling notebook extension jupyter-js-widgets/extension...\n",
      "      - Validating: \u001b[32mOK\u001b[0m\n"
     ]
    }
   ],
   "source": [
    "!jupyter nbextension enable --py widgetsnbextension --sys-prefix"
   ]
  },
  {
   "cell_type": "code",
   "execution_count": 10,
   "metadata": {},
   "outputs": [],
   "source": [
    "input_folder = '/Users/vishvajith/Desktop/COA project/sobel_input/Animals'\n",
    "serial_output_folder = '/Users/vishvajith/Desktop/COA project/sobel_output/Serial_out'\n",
    "parallel_output_folder = '/Users/vishvajith/Desktop/COA project/sobel_output/Parallel_out'"
   ]
  },
  {
   "cell_type": "code",
   "execution_count": 11,
   "metadata": {},
   "outputs": [
    {
     "data": {
      "application/vnd.jupyter.widget-view+json": {
       "model_id": "de5182b01c5f48f68552e11ec5991dc6",
       "version_major": 2,
       "version_minor": 0
      },
      "text/plain": [
       "Dropdown(description='Compute Mode:', options=('Serial', 'Parallel'), value='Serial')"
      ]
     },
     "metadata": {},
     "output_type": "display_data"
    }
   ],
   "source": [
    "# Create dropdown widget for selecting the processing method\n",
    "compute_mode_dropdown = widgets.Dropdown(\n",
    "    options=['Serial', 'Parallel'],\n",
    "    description='Compute Mode:',\n",
    ")\n",
    "\n",
    "# Display the dropdown widget\n",
    "display(compute_mode_dropdown)"
   ]
  },
  {
   "cell_type": "code",
   "execution_count": 13,
   "metadata": {},
   "outputs": [
    {
     "name": "stdout",
     "output_type": "stream",
     "text": [
      "\n",
      "Running Serial Processing...\n",
      "\n",
      "Serial processing time: 7.5011 seconds\n",
      "\n",
      "Running Parallel Processing...\n",
      "\n",
      "Parallel processing time: 3.1513 seconds\n",
      "\n",
      "Timing Comparison:\n",
      "Serial processing time: 7.5011 seconds\n",
      "Parallel processing time: 3.1513 seconds\n",
      "Parallel processing was faster by 4.3498 seconds\n"
     ]
    }
   ],
   "source": [
    "# Create a button to start the processing\n",
    "process_button = widgets.Button(description='Process Images')"
   ]
  },
  {
   "cell_type": "code",
   "execution_count": 15,
   "metadata": {},
   "outputs": [],
   "source": [
    "# Function to process images serially\n",
    "def process_images_serial():\n",
    "    # Create the output folder if it doesn't exist\n",
    "    if not os.path.exists(serial_output_folder):\n",
    "        os.makedirs(serial_output_folder)\n",
    "        \n",
    "    # Get list of all image files in the input folder\n",
    "    image_files = os.listdir(input_folder)\n",
    "    \n",
    "    # Measure start time\n",
    "    start_time = time.time()\n",
    "    \n",
    "    for image_file in image_files:\n",
    "        # Construct the full path to the image file\n",
    "        image_path = os.path.join(input_folder, image_file)\n",
    "        \n",
    "        # Read the image\n",
    "        image = cv2.imread(image_path)\n",
    "        \n",
    "        # Check if the image was successfully loaded\n",
    "        if image is None:\n",
    "            print(f\"Failed to read image: {image_path}\")\n",
    "            continue\n",
    "        \n",
    "        # Convert the image to grayscale\n",
    "        gray_image = cv2.cvtColor(image, cv2.COLOR_BGR2GRAY)\n",
    "        \n",
    "        # Apply the Sobel operator\n",
    "        sobelx = cv2.Sobel(gray_image, cv2.CV_64F, 1, 0, ksize=3)\n",
    "        sobely = cv2.Sobel(gray_image, cv2.CV_64F, 0, 1, ksize=3)\n",
    "        sobel_combined = cv2.magnitude(sobelx, sobely)\n",
    "        sobel_combined = cv2.convertScaleAbs(sobel_combined)\n",
    "        \n",
    "        # Save the processed image to the output folder\n",
    "        output_image_path = os.path.join(serial_output_folder, 'serial_' + image_file)\n",
    "        cv2.imwrite(output_image_path, sobel_combined)\n",
    "    \n",
    "    # Measure end time\n",
    "    end_time = time.time()\n",
    "    total_time = end_time - start_time\n",
    "    print(f\"\\nSerial processing time: {total_time:.4f} seconds\")\n",
    "    return total_time\n",
    "\n",
    "\n"
   ]
  },
  {
   "cell_type": "code",
   "execution_count": 20,
   "metadata": {},
   "outputs": [],
   "source": [
    "# Cell 6: Function to process images in parallel using pymp\n",
    "def process_images_parallel():\n",
    "    # Create the output folder if it doesn't exist\n",
    "    if not os.path.exists(parallel_output_folder):\n",
    "        os.makedirs(parallel_output_folder)\n",
    "        \n",
    "    # Get list of all image files in the input folder\n",
    "    image_files = os.listdir(input_folder)\n",
    "    \n",
    "    # Measure start time\n",
    "    start_time = time.time()\n",
    "    \n",
    "    # Use pymp for parallel processing\n",
    "    num_threads = 4  # You can adjust this number based on your system\n",
    "    shared_image_files = pymp.shared.array((len(image_files),), dtype='S100')\n",
    "    for idx, file in enumerate(image_files):\n",
    "        shared_image_files[idx] = file.encode('utf-8')\n",
    "    \n",
    "    with pymp.Parallel(num_threads) as p:\n",
    "        for i in p.range(len(shared_image_files)):\n",
    "            image_file = shared_image_files[i].decode('utf-8')\n",
    "            # Construct the full path to the image file\n",
    "            image_path = os.path.join(input_folder, image_file)\n",
    "            \n",
    "            # Read the image\n",
    "            image = cv2.imread(image_path)\n",
    "            \n",
    "            # Check if the image was successfully loaded\n",
    "            if image is None:\n",
    "                print(f\"Failed to read image: {image_path}\")\n",
    "                continue\n",
    "            \n",
    "            # Convert the image to grayscale\n",
    "            gray_image = cv2.cvtColor(image, cv2.COLOR_BGR2GRAY)\n",
    "            \n",
    "            # Apply the Sobel operator\n",
    "            sobelx = cv2.Sobel(gray_image, cv2.CV_64F, 1, 0, ksize=3)\n",
    "            sobely = cv2.Sobel(gray_image, cv2.CV_64F, 0, 1, ksize=3)\n",
    "            sobel_combined = cv2.magnitude(sobelx, sobely)\n",
    "            sobel_combined = cv2.convertScaleAbs(sobel_combined)\n",
    "            \n",
    "            # Save the processed image to the output folder\n",
    "            output_image_path = os.path.join(parallel_output_folder, 'parallel_' + image_file)\n",
    "            cv2.imwrite(output_image_path, sobel_combined)\n",
    "    \n",
    "    # Measure end time\n",
    "    end_time = time.time()\n",
    "    total_time = end_time - start_time\n",
    "    print(f\"\\nParallel processing time: {total_time:.4f} seconds\")\n",
    "    return total_time\n",
    "\n",
    "\n"
   ]
  },
  {
   "cell_type": "code",
   "execution_count": 21,
   "metadata": {},
   "outputs": [],
   "source": [
    "# Define the function that runs when the button is clicked\n",
    "def on_process_button_clicked(b):\n",
    "    compute_mode = compute_mode_dropdown.value\n",
    "    \n",
    "    if compute_mode == 'Serial':\n",
    "        print(\"\\nRunning Serial Processing...\")\n",
    "        serial_time = process_images_serial()\n",
    "        print(\"\\nRunning Parallel Processing...\")\n",
    "        parallel_time = process_images_parallel()\n",
    "    elif compute_mode == 'Parallel':\n",
    "        print(\"\\nRunning Parallel Processing...\")\n",
    "        parallel_time = process_images_parallel()\n",
    "        print(\"\\nRunning Serial Processing...\")\n",
    "        serial_time = process_images_serial()\n",
    "    else:\n",
    "        print(\"Invalid Compute Mode Selected.\")\n",
    "        return\n",
    "    # Print comparison\n",
    "    print(f\"\\nTiming Comparison:\")\n",
    "    print(f\"Serial processing time: {serial_time:.4f} seconds\")\n",
    "    print(f\"Parallel processing time: {parallel_time:.4f} seconds\")\n",
    "    time_diff = serial_time - parallel_time\n",
    "    if time_diff > 0:\n",
    "        print(f\"Parallel processing was faster by {time_diff:.4f} seconds\")\n",
    "    else:\n",
    "        print(f\"Serial processing was faster by {-time_diff:.4f} seconds\")"
   ]
  },
  {
   "cell_type": "code",
   "execution_count": 22,
   "metadata": {},
   "outputs": [
    {
     "data": {
      "application/vnd.jupyter.widget-view+json": {
       "model_id": "f73777018a1b40e086a8f6adeea63a13",
       "version_major": 2,
       "version_minor": 0
      },
      "text/plain": [
       "Button(description='Process Images', style=ButtonStyle())"
      ]
     },
     "metadata": {},
     "output_type": "display_data"
    }
   ],
   "source": [
    "# Cell 8: Link the button click event to the function\n",
    "process_button.on_click(on_process_button_clicked)\n",
    "\n",
    "# Display the process button\n",
    "display(process_button)"
   ]
  },
  {
   "cell_type": "code",
   "execution_count": null,
   "metadata": {},
   "outputs": [],
   "source": []
  }
 ],
 "metadata": {
  "kernelspec": {
   "display_name": "coa_project_env",
   "language": "python",
   "name": "coa_project_env"
  },
  "language_info": {
   "codemirror_mode": {
    "name": "ipython",
    "version": 3
   },
   "file_extension": ".py",
   "mimetype": "text/x-python",
   "name": "python",
   "nbconvert_exporter": "python",
   "pygments_lexer": "ipython3",
   "version": "3.9.5"
  }
 },
 "nbformat": 4,
 "nbformat_minor": 2
}
